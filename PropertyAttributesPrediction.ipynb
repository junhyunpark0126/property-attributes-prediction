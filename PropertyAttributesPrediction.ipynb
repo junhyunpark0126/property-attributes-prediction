{
  "nbformat": 4,
  "nbformat_minor": 0,
  "metadata": {
    "colab": {
      "provenance": [],
      "include_colab_link": true
    },
    "kernelspec": {
      "name": "python3",
      "display_name": "Python 3"
    },
    "language_info": {
      "name": "python"
    }
  },
  "cells": [
    {
      "cell_type": "markdown",
      "metadata": {
        "id": "view-in-github",
        "colab_type": "text"
      },
      "source": [
        "<a href=\"https://colab.research.google.com/github/junhyunpark0126/property-attributes-prediction/blob/main/PropertyAttributesPrediction.ipynb\" target=\"_parent\"><img src=\"https://colab.research.google.com/assets/colab-badge.svg\" alt=\"Open In Colab\"/></a>"
      ]
    },
    {
      "cell_type": "markdown",
      "source": [
        "# Machine Learning : Predicting the Attributes of Properties\n"
      ],
      "metadata": {
        "id": "I2L0PkeSIuOD"
      }
    },
    {
      "cell_type": "markdown",
      "metadata": {
        "id": "ETZ9CDIDLYHp"
      },
      "source": [
        "### Imports/Setup\n"
      ]
    },
    {
      "cell_type": "code",
      "execution_count": 1,
      "metadata": {
        "id": "TBTaESEdMmiU"
      },
      "outputs": [],
      "source": [
        "# import packages\n",
        "import json\n",
        "import glob\n",
        "import pandas as pd\n",
        "import numpy as np\n",
        "import datetime as dt\n",
        "import re\n",
        "import os\n",
        "import matplotlib.pyplot as plt\n",
        "import seaborn as sns\n",
        "from matplotlib import cm\n",
        "from google.colab import drive\n",
        "from sklearn.model_selection import train_test_split\n",
        "from collections import Counter\n",
        "import seaborn as sns\n",
        "\n",
        "import warnings\n",
        "warnings.filterwarnings(\"ignore\", category=DeprecationWarning)"
      ]
    },
    {
      "cell_type": "code",
      "execution_count": 2,
      "metadata": {
        "id": "tA6oTIZtRjf7"
      },
      "outputs": [],
      "source": [
        "%%capture\n",
        "!apt update\n",
        "!pip install kaggle"
      ]
    },
    {
      "cell_type": "markdown",
      "source": [
        "# **Part I:** Preprocessing and Modeling in `scikit-learn`"
      ],
      "metadata": {
        "id": "odlXF5IYJ-et"
      }
    },
    {
      "cell_type": "markdown",
      "source": [
        "## **1.1** Data Loading and Preprocessing"
      ],
      "metadata": {
        "id": "_XSw-F5VjVKI"
      }
    },
    {
      "cell_type": "markdown",
      "metadata": {
        "id": "1Sw7LCAacKOu"
      },
      "source": [
        "### **1.1.1** Read and Load Data\n",
        "\n",
        "We are using one CSV `properties_data.csv` from a Kaggle [dataset](https://www.kaggle.com/datasets/dataregress/dubai-properties-dataset/data). The dataset contains 38 columns and over 1900 property entries."
      ]
    },
    {
      "cell_type": "code",
      "execution_count": 3,
      "metadata": {
        "id": "RGz24WQ86ptM",
        "colab": {
          "base_uri": "https://localhost:8080/"
        },
        "outputId": "559ac61f-6aa8-476e-c8ba-bdc55dd7093d"
      },
      "outputs": [
        {
          "output_type": "stream",
          "name": "stdout",
          "text": [
            "Mounted at /content/drive\n"
          ]
        }
      ],
      "source": [
        "from google.colab import drive\n",
        "drive.mount('/content/drive')"
      ]
    },
    {
      "cell_type": "code",
      "source": [
        "!mkdir ~/.kaggle"
      ],
      "metadata": {
        "id": "R4taOIpPb6CN"
      },
      "execution_count": 4,
      "outputs": []
    },
    {
      "cell_type": "code",
      "source": [
        "!cp /content/drive/MyDrive/kaggle.json ~/.kaggle/"
      ],
      "metadata": {
        "id": "uO1UNkV6cbxA"
      },
      "execution_count": 5,
      "outputs": []
    },
    {
      "cell_type": "code",
      "source": [
        "# Download dataset\n",
        "!!kaggle datasets download -d dataregress/dubai-properties-dataset"
      ],
      "metadata": {
        "id": "PZzBBL4VHVTK",
        "colab": {
          "base_uri": "https://localhost:8080/"
        },
        "outputId": "6cce44c1-d956-4fc8-a6a5-67ea56df2bdb"
      },
      "execution_count": 6,
      "outputs": [
        {
          "output_type": "execute_result",
          "data": {
            "text/plain": [
              "['Downloading dubai-properties-dataset.zip to /content',\n",
              " '',\n",
              " '  0% 0.00/60.0k [00:00<?, ?B/s]',\n",
              " '',\n",
              " '100% 60.0k/60.0k [00:00<00:00, 59.9MB/s]']"
            ]
          },
          "metadata": {},
          "execution_count": 6
        }
      ]
    },
    {
      "cell_type": "code",
      "source": [
        "# Unzip folder in Colab content folder\n",
        "!unzip /content/dubai-properties-dataset.zip"
      ],
      "metadata": {
        "id": "SGrKYIOUHebk",
        "colab": {
          "base_uri": "https://localhost:8080/"
        },
        "outputId": "9b6f7085-0724-41a0-ccfa-22e23ccfd682"
      },
      "execution_count": 7,
      "outputs": [
        {
          "output_type": "stream",
          "name": "stdout",
          "text": [
            "Archive:  /content/dubai-properties-dataset.zip\n",
            "  inflating: properties_data.csv     \n"
          ]
        }
      ]
    },
    {
      "cell_type": "code",
      "source": [
        "df_properties = pd.read_csv(\"properties_data.csv\")"
      ],
      "metadata": {
        "id": "UehH19fqHR4L"
      },
      "execution_count": 8,
      "outputs": []
    },
    {
      "cell_type": "markdown",
      "source": [
        "## **1.2** EDA\n"
      ],
      "metadata": {
        "id": "LsDRMCdfkACq"
      }
    },
    {
      "cell_type": "markdown",
      "source": [
        "### **1.2.1** Visualization [12 points]"
      ],
      "metadata": {
        "id": "YwLDb9QE6sEF"
      }
    },
    {
      "cell_type": "markdown",
      "source": [
        "#### (a) Examining Neighborhood and Quality"
      ],
      "metadata": {
        "id": "SCE6Y6TF7thU"
      }
    },
    {
      "cell_type": "markdown",
      "source": [
        "For the ***top ten neighborhoods with the most properties***, we want to find the number of Low, Medium, High, Ultra listings from the `quality` column."
      ],
      "metadata": {
        "id": "pCOF-tYX9zVV"
      }
    },
    {
      "cell_type": "code",
      "source": [
        "df_temp = df_properties.groupby('neighborhood').agg({'price': 'count'}).reset_index()\n",
        "df_temp = df_temp.sort_values(by='price', ascending=False)\n",
        "\n",
        "top_ten_neighborhoods = df_temp['neighborhood'].head(10).to_list()"
      ],
      "metadata": {
        "id": "JVMB6q7YP6pM"
      },
      "execution_count": 9,
      "outputs": []
    },
    {
      "cell_type": "code",
      "source": [
        "ten_neighborhoods_df = df_properties[df_properties['neighborhood'].isin(top_ten_neighborhoods)]"
      ],
      "metadata": {
        "id": "N7Zcv8VVP6rt"
      },
      "execution_count": 10,
      "outputs": []
    },
    {
      "cell_type": "code",
      "source": [
        "plt.figure(figsize=(8,6))\n",
        "sns.countplot(data=ten_neighborhoods_df, x='neighborhood', hue='quality', palette='husl')\n",
        "plt.title('Number of Property Listings By Quality In The Top 10 Neighborhoods')\n",
        "plt.xlabel('Neighborhoods')\n",
        "plt.ylabel('Number of Properties')\n",
        "plt.legend(title='Quality')\n",
        "plt.xticks(rotation=90)\n",
        "\n",
        "plt.show()"
      ],
      "metadata": {
        "id": "qWS4tgh-Hsqq",
        "colab": {
          "base_uri": "https://localhost:8080/",
          "height": 734
        },
        "outputId": "92204458-2ab2-4313-bda9-f16d9047c2bc"
      },
      "execution_count": 11,
      "outputs": [
        {
          "output_type": "display_data",
          "data": {
            "text/plain": [
              "<Figure size 800x600 with 1 Axes>"
            ],
            "image/png": "[encoded data removed]"
          },
          "metadata": {}
        }
      ]
    },
    {
      "cell_type": "markdown",
      "source": [
        "#### (b) 3D Scatterplot"
      ],
      "metadata": {
        "id": "yS7viOKL8Bap"
      }
    },
    {
      "cell_type": "markdown",
      "source": [
        "We want to examine the relationship between three variables: `number_of_bedrooms`, `number_of_bathrooms`, and `price`. We also want to examine `quality` as well."
      ],
      "metadata": {
        "id": "63W2fWFygolZ"
      }
    },
    {
      "cell_type": "code",
      "source": [
        "import matplotlib.pyplot as plt\n",
        "\n",
        "# save the corresponding series from dataframe into lists/containers\n",
        "number_of_bedrooms = df_properties['no_of_bedrooms'].to_list()\n",
        "number_of_bathrooms = df_properties['no_of_bathrooms'].to_list()\n",
        "price = df_properties['price'].to_list()\n",
        "quality = df_properties['quality'].to_list()\n",
        "\n",
        "# create a 3D scatter plot of size (6,6)\n",
        "fig = plt.figure(figsize=(6,6))\n",
        "ax = fig.add_subplot(projection='3d')\n",
        "\n",
        "# create a dictionary with your quality and corresponding colors\n",
        "color_dict = {\n",
        "    'Low' : 'red',\n",
        "    'Medium' : 'green',\n",
        "    'High' : 'blue',\n",
        "    'Ultra' : 'magenta'\n",
        "}\n",
        "\n",
        "# iterate through and plot datapoints\n",
        "\n",
        "for i in range(len(quality)):\n",
        "  ax.scatter(number_of_bedrooms[i], number_of_bathrooms[i], price[i], color=color_dict[quality[i]], marker='o')\n",
        "\n",
        "\n",
        "# set title and labels\n",
        "\n",
        "ax.set_title('Properties By Quality and Their Attributes')\n",
        "ax.set_xlabel('Number of Bedrooms')\n",
        "ax.set_ylabel('Number of Bathrooms')\n",
        "ax.set_zlabel('Price')\n",
        "ax.set_box_aspect(aspect=None, zoom=0.85)\n",
        "\n",
        "for quality, color in color_dict.items():\n",
        "    ax.scatter([], [], [], c=color, marker='o', label=quality)\n",
        "ax.legend(loc='upper left')\n",
        "plt.show()"
      ],
      "metadata": {
        "id": "QyCDKQ2BH09K",
        "colab": {
          "base_uri": "https://localhost:8080/",
          "height": 521
        },
        "outputId": "b6973bf4-2b97-45d5-e22c-2c357c87d1b4"
      },
      "execution_count": 12,
      "outputs": [
        {
          "output_type": "display_data",
          "data": {
            "text/plain": [
              "<Figure size 600x600 with 1 Axes>"
            ],
            "image/png": "[encoded data removed]"
          },
          "metadata": {}
        }
      ]
    },
    {
      "cell_type": "markdown",
      "source": [
        "### **1.2.2** Correlation of Feature Variables"
      ],
      "metadata": {
        "id": "D_uvTv_VKYfY"
      }
    },
    {
      "cell_type": "markdown",
      "source": [
        "_**Isolating Numerics from Categorical Features**_"
      ],
      "metadata": {
        "id": "YacG1jN-_WI6"
      }
    },
    {
      "cell_type": "code",
      "source": [
        "temp_df1 = df_properties.select_dtypes(include=['int64', 'float64'])\n",
        "temp_df1 = temp_df1.drop(['id', 'latitude', 'longitude', 'price'], axis=1)\n",
        "temp_df2 = df_properties.select_dtypes(include=['bool', 'object'])\n",
        "temp_df2 = temp_df2.drop(['quality'], axis=1)"
      ],
      "metadata": {
        "id": "PZIPC3qoLgag"
      },
      "execution_count": 13,
      "outputs": []
    },
    {
      "cell_type": "code",
      "source": [
        "num_df = temp_df1.sort_index(axis=1, ascending=True)\n",
        "cat_df = temp_df2.sort_index(axis=1, ascending=True)"
      ],
      "metadata": {
        "id": "zcnftjDlNyWx"
      },
      "execution_count": 14,
      "outputs": []
    },
    {
      "cell_type": "code",
      "source": [
        "num_df.columns"
      ],
      "metadata": {
        "id": "VU3eQ2viINds",
        "colab": {
          "base_uri": "https://localhost:8080/"
        },
        "outputId": "231d0095-edc6-48b9-be6a-64db76481da0"
      },
      "execution_count": 15,
      "outputs": [
        {
          "output_type": "execute_result",
          "data": {
            "text/plain": [
              "Index(['no_of_bathrooms', 'no_of_bedrooms', 'price_per_sqft', 'size_in_sqft'], dtype='object')"
            ]
          },
          "metadata": {},
          "execution_count": 15
        }
      ]
    },
    {
      "cell_type": "code",
      "source": [
        "cat_df.columns"
      ],
      "metadata": {
        "id": "0xlFUDPTIOnk",
        "colab": {
          "base_uri": "https://localhost:8080/"
        },
        "outputId": "00afbb8d-6e6e-489b-c9a0-68c7bd65cb9b"
      },
      "execution_count": 16,
      "outputs": [
        {
          "output_type": "execute_result",
          "data": {
            "text/plain": [
              "Index(['balcony', 'barbecue_area', 'built_in_wardrobes', 'central_ac',\n",
              "       'childrens_play_area', 'childrens_pool', 'concierge', 'covered_parking',\n",
              "       'kitchen_appliances', 'lobby_in_building', 'maid_room', 'maid_service',\n",
              "       'neighborhood', 'networked', 'pets_allowed', 'private_garden',\n",
              "       'private_gym', 'private_jacuzzi', 'private_pool', 'security',\n",
              "       'shared_gym', 'shared_pool', 'shared_spa', 'study', 'unfurnished',\n",
              "       'vastu_compliant', 'view_of_landmark', 'view_of_water',\n",
              "       'walk_in_closet'],\n",
              "      dtype='object')"
            ]
          },
          "metadata": {},
          "execution_count": 16
        }
      ]
    },
    {
      "cell_type": "markdown",
      "metadata": {
        "id": "QRaftmxV-FEV"
      },
      "source": [
        "_**Correlation Heatmap**_"
      ]
    },
    {
      "cell_type": "code",
      "source": [
        "corr_mat = num_df.corr()\n",
        "\n",
        "plt.figure(figsize=(8,8))\n",
        "sns.heatmap(corr_mat, annot=True, cmap='RdBu', vmin=-1, vmax=1)\n",
        "plt.title('Correlation Heatmap for Various Numeric Features')\n",
        "\n",
        "plt.show()"
      ],
      "metadata": {
        "id": "vUf-1zk2IauC",
        "colab": {
          "base_uri": "https://localhost:8080/",
          "height": 699
        },
        "outputId": "46987125-5b2f-4065-c6b1-6aad6254df0e"
      },
      "execution_count": 17,
      "outputs": [
        {
          "output_type": "display_data",
          "data": {
            "text/plain": [
              "<Figure size 800x800 with 2 Axes>"
            ],
            "image/png": "[encoded data removed]"
          },
          "metadata": {}
        }
      ]
    },
    {
      "cell_type": "markdown",
      "source": [
        "## **1.3** Feature Engineering"
      ],
      "metadata": {
        "id": "06OFh_eTNIPI"
      }
    },
    {
      "cell_type": "markdown",
      "source": [
        "### **1.3.1** Cast Boolean Values into Integers"
      ],
      "metadata": {
        "id": "gJ2ptxmkNyG6"
      }
    },
    {
      "cell_type": "code",
      "source": [
        "encoded_df_properties = df_properties.drop(columns=['id', 'latitude', 'longitude', 'neighborhood'])"
      ],
      "metadata": {
        "id": "ttMWoxUPOhqF"
      },
      "execution_count": 18,
      "outputs": []
    },
    {
      "cell_type": "code",
      "source": [
        "encoded_df_properties = encoded_df_properties.apply(lambda x : x.astype(int) if x.dtype=='bool' else x)"
      ],
      "metadata": {
        "id": "vHkQI4mi1fdu"
      },
      "execution_count": 19,
      "outputs": []
    },
    {
      "cell_type": "markdown",
      "source": [
        "### **1.3.2** Encode Classes in 'Quality' Column"
      ],
      "metadata": {
        "id": "4bVkkvxRrWuc"
      }
    },
    {
      "cell_type": "code",
      "source": [
        "quality_mapping = {\n",
        "    'Low': 0,\n",
        "    'Medium': 1,\n",
        "    'High': 2,\n",
        "    'Ultra': 3,\n",
        "}\n",
        "\n",
        "encoded_df_properties['quality'] = encoded_df_properties['quality'].apply(lambda x : quality_mapping[x])"
      ],
      "metadata": {
        "id": "HuPVCItW4oGe"
      },
      "execution_count": 20,
      "outputs": []
    },
    {
      "cell_type": "code",
      "source": [
        "encoded_df_properties['quality'].unique()"
      ],
      "metadata": {
        "id": "1FXihRrTIm9h",
        "colab": {
          "base_uri": "https://localhost:8080/"
        },
        "outputId": "190bd768-0ef2-45ab-80ff-cf0e91a0ba52"
      },
      "execution_count": 21,
      "outputs": [
        {
          "output_type": "execute_result",
          "data": {
            "text/plain": [
              "array([1, 0, 2, 3])"
            ]
          },
          "metadata": {},
          "execution_count": 21
        }
      ]
    },
    {
      "cell_type": "markdown",
      "metadata": {
        "id": "K-iqlFZacKO9"
      },
      "source": [
        "## **1.4** Modeling (sklearn)"
      ]
    },
    {
      "cell_type": "markdown",
      "source": [
        "### **1.4.1** Preprocessing: Create Features and Label and Split Data into Train and Test\n",
        "\n",
        "Now that we have explored and cleaned our dataset, let's prepare it for a machine learning task."
      ],
      "metadata": {
        "id": "xPBSUmK9HRHc"
      }
    },
    {
      "cell_type": "code",
      "source": [
        "features = encoded_df_properties.drop(columns=['quality'])\n",
        "\n",
        "target = encoded_df_properties['quality']"
      ],
      "metadata": {
        "id": "N7_jhB-LEVNK"
      },
      "execution_count": 22,
      "outputs": []
    },
    {
      "cell_type": "code",
      "source": [
        "seed = 42\n",
        "X_train, X_test, y_train, y_test = train_test_split(features, target, test_size=0.2, random_state=seed)"
      ],
      "metadata": {
        "id": "D48UmEtDEo0g"
      },
      "execution_count": 23,
      "outputs": []
    },
    {
      "cell_type": "markdown",
      "source": [
        "### **1.4.2** Classification Models"
      ],
      "metadata": {
        "id": "IQid9KfyIN2-"
      }
    },
    {
      "cell_type": "markdown",
      "source": [
        "#### (a) Logistic Regression"
      ],
      "metadata": {
        "id": "M1Vj9AkIIgpL"
      }
    },
    {
      "cell_type": "code",
      "source": [
        "from sklearn.linear_model import LogisticRegression\n",
        "\n",
        "classifier = LogisticRegression(penalty=None, multi_class = 'multinomial')\n",
        "classifier.fit(X_train, y_train)\n",
        "\n",
        "y_pred = classifier.predict(X_test)\n",
        "\n",
        "log_acc = classifier.score(X_test, y_test)\n",
        "\n",
        "log_acc"
      ],
      "metadata": {
        "id": "1989P2yhIzfJ",
        "colab": {
          "base_uri": "https://localhost:8080/"
        },
        "outputId": "37148338-e427-4ade-dc9e-b70d6ce1014c"
      },
      "execution_count": 24,
      "outputs": [
        {
          "output_type": "execute_result",
          "data": {
            "text/plain": [
              "0.5931758530183727"
            ]
          },
          "metadata": {},
          "execution_count": 24
        }
      ]
    },
    {
      "cell_type": "markdown",
      "source": [
        "#### (b) Random Forest Classifier"
      ],
      "metadata": {
        "id": "wgbNIcEFMch4"
      }
    },
    {
      "cell_type": "code",
      "source": [
        "from sklearn.ensemble import RandomForestClassifier\n",
        "from sklearn.metrics import confusion_matrix\n",
        "\n",
        "tree_classifier = RandomForestClassifier(class_weight = 'balanced', n_estimators = 120, max_depth = 30, random_state = 42)\n",
        "tree_classifier.fit(X_train, y_train)\n",
        "\n",
        "y_pred = tree_classifier.predict(X_test)\n",
        "\n",
        "rf_acc = tree_classifier.score(X_test, y_test)\n",
        "\n",
        "rf_confusion = confusion_matrix(y_test, y_pred)\n",
        "\n",
        "rf_acc, rf_confusion"
      ],
      "metadata": {
        "id": "89LHKRSNI-A5",
        "colab": {
          "base_uri": "https://localhost:8080/"
        },
        "outputId": "c02e92b0-3e96-48b5-9a08-f266a999cd80"
      },
      "execution_count": 25,
      "outputs": [
        {
          "output_type": "execute_result",
          "data": {
            "text/plain": [
              "(0.9212598425196851,\n",
              " array([[ 97,  15,   0,   0],\n",
              "        [  1, 225,   2,   0],\n",
              "        [  0,  12,  17,   0],\n",
              "        [  0,   0,   0,  12]]))"
            ]
          },
          "metadata": {},
          "execution_count": 25
        }
      ]
    },
    {
      "cell_type": "markdown",
      "source": [
        "#### (c) PCA to Reduce Dimensionality"
      ],
      "metadata": {
        "id": "lbSul1eKNIVG"
      }
    },
    {
      "cell_type": "markdown",
      "source": [
        "_**Initial PCA**_"
      ],
      "metadata": {
        "id": "caGTeWhxNL3K"
      }
    },
    {
      "cell_type": "code",
      "source": [
        "from sklearn.preprocessing import StandardScaler\n",
        "from sklearn.decomposition import PCA\n",
        "\n",
        "scaler = StandardScaler()\n",
        "X_train_scaled = scaler.fit_transform(X_train)\n",
        "X_test_scaled = scaler.transform(X_test)\n",
        "\n",
        "pca = PCA()\n",
        "X_train_pca = pca.fit(X_train_scaled)"
      ],
      "metadata": {
        "id": "PuETOl5gQuNb"
      },
      "execution_count": 26,
      "outputs": []
    },
    {
      "cell_type": "markdown",
      "source": [
        "_**Cumulative Explained Variance Ratios**_"
      ],
      "metadata": {
        "id": "oeJnO6EENQQq"
      }
    },
    {
      "cell_type": "code",
      "source": [
        "explained_variance_ratios = pca.explained_variance_ratio_\n",
        "\n",
        "cum_evr = explained_variance_ratios.cumsum()"
      ],
      "metadata": {
        "id": "LomThMizJIlR"
      },
      "execution_count": 27,
      "outputs": []
    },
    {
      "cell_type": "code",
      "source": [
        "plt.figure(figsize=(8,3))\n",
        "plt.plot(range(1, len(cum_evr) + 1), cum_evr)\n",
        "plt.axhline(y=0.8, color='r')\n",
        "\n",
        "plt.title('Cumulative Explained Variance Ratios vs. Number of Principal Components')\n",
        "plt.xlabel('Number of Components')\n",
        "plt.ylabel('Cumulative Explained Variance Ratios')\n",
        "\n",
        "plt.xticks(range(1, len(cum_evr) + 1, 2))\n",
        "\n",
        "plt.show()"
      ],
      "metadata": {
        "id": "c5_hXQIKJST6",
        "colab": {
          "base_uri": "https://localhost:8080/",
          "height": 333
        },
        "outputId": "6e1f44b9-26d5-45bc-fc7f-cf8a87126d12"
      },
      "execution_count": 28,
      "outputs": [
        {
          "output_type": "display_data",
          "data": {
            "text/plain": [
              "<Figure size 800x300 with 1 Axes>"
            ],
            "image/png": "[encoded data removed]"
          },
          "metadata": {}
        }
      ]
    },
    {
      "cell_type": "markdown",
      "source": [
        "_**Final PCA**_"
      ],
      "metadata": {
        "id": "PIhrE2ILNmve"
      }
    },
    {
      "cell_type": "code",
      "source": [
        "pca = PCA(n_components=16)\n",
        "pca.fit(X_train_scaled)\n",
        "\n",
        "\n",
        "X_test_pca = pca.transform(X_test_scaled)\n",
        "X_train_pca = pca.transform(X_train_scaled)"
      ],
      "metadata": {
        "id": "o3jrh59gGZ0s"
      },
      "execution_count": 29,
      "outputs": []
    },
    {
      "cell_type": "markdown",
      "source": [
        "#### (d) Logistic Regression with PCA"
      ],
      "metadata": {
        "id": "TzIlLTj0Nq92"
      }
    },
    {
      "cell_type": "code",
      "source": [
        "log_reg_pca = LogisticRegression(penalty = None, multi_class = 'multinomial')\n",
        "log_reg_pca.fit(X_train_pca, y_train)\n",
        "\n",
        "y_pred = log_reg_pca.predict(X_test_pca)\n",
        "\n",
        "test_accuracy = log_reg_pca.score(X_test_pca, y_test)\n",
        "\n",
        "test_accuracy"
      ],
      "metadata": {
        "id": "sUMXF0YDJ2ci",
        "colab": {
          "base_uri": "https://localhost:8080/"
        },
        "outputId": "5998e844-eebc-49a7-eb53-5610eeaa624e"
      },
      "execution_count": 30,
      "outputs": [
        {
          "output_type": "execute_result",
          "data": {
            "text/plain": [
              "0.9921259842519685"
            ]
          },
          "metadata": {},
          "execution_count": 30
        }
      ]
    },
    {
      "cell_type": "markdown",
      "source": [
        "### **1.4.3.0** Regression: Split Data into Train and Test"
      ],
      "metadata": {
        "id": "tYGjFnJ8kfaK"
      }
    },
    {
      "cell_type": "code",
      "source": [
        "reg_df_properties = encoded_df_properties[['price', 'size_in_sqft', 'no_of_bedrooms', 'no_of_bathrooms']]"
      ],
      "metadata": {
        "id": "X6uGSdSYbLaO"
      },
      "execution_count": 31,
      "outputs": []
    },
    {
      "cell_type": "code",
      "source": [
        "features = reg_df_properties.drop(columns=['price'])\n",
        "\n",
        "target = reg_df_properties['price']"
      ],
      "metadata": {
        "id": "5f8a8uTcmTSV"
      },
      "execution_count": 32,
      "outputs": []
    },
    {
      "cell_type": "code",
      "source": [
        "seed = 42\n",
        "X_train, X_test, y_train, y_test = train_test_split(features, target, test_size=0.2, random_state=seed)"
      ],
      "metadata": {
        "id": "Z5rG25VRkfaL"
      },
      "execution_count": 33,
      "outputs": []
    },
    {
      "cell_type": "markdown",
      "metadata": {
        "id": "NGlb6tnNcKO-"
      },
      "source": [
        "### **1.4.3.1** Regression Models\n",
        "\n",
        "In this section, we will switch from classification models to regression models.\n",
        "\n",
        "Let's use the features we created in 1.4.3.0 to create regression models and predict the average price per room."
      ]
    },
    {
      "cell_type": "markdown",
      "source": [
        "#### (a) Linear Regression (Unregularized)"
      ],
      "metadata": {
        "id": "GlMOX0ljUk12"
      }
    },
    {
      "cell_type": "code",
      "source": [
        "from sklearn.linear_model import LinearRegression\n",
        "\n",
        "reg = LinearRegression()\n",
        "reg.fit(X_train, y_train)\n",
        "\n",
        "y_pred = reg.predict(X_test)\n",
        "\n",
        "\n",
        "lin_reg_score = reg.score(X_test, y_test)"
      ],
      "metadata": {
        "id": "6PCTGcGEokY2"
      },
      "execution_count": 34,
      "outputs": []
    },
    {
      "cell_type": "markdown",
      "metadata": {
        "id": "G7EV4dpDcKO_"
      },
      "source": [
        "#### (b) Lasso Regression"
      ]
    },
    {
      "cell_type": "code",
      "source": [
        "scaler = StandardScaler()\n",
        "X_train_scaled = scaler.fit_transform(X_train)\n",
        "X_test_scaled = scaler.transform(X_test)"
      ],
      "metadata": {
        "id": "pUi11tA3zCUe"
      },
      "execution_count": 35,
      "outputs": []
    },
    {
      "cell_type": "code",
      "source": [
        "from sklearn.linear_model import Lasso\n",
        "\n",
        "reg_lasso = Lasso(alpha = 0.5)\n",
        "reg_lasso.fit(X_train_scaled, y_train)\n",
        "\n",
        "y_pred = reg_lasso.predict(X_test_scaled)\n",
        "\n",
        "lasso_score = reg_lasso.score(X_test_scaled, y_test)\n",
        "\n",
        "lasso_score"
      ],
      "metadata": {
        "id": "WOKnu3kiKotN",
        "colab": {
          "base_uri": "https://localhost:8080/"
        },
        "outputId": "06ff532a-5746-468d-b3db-c3989a1c2183"
      },
      "execution_count": 36,
      "outputs": [
        {
          "output_type": "execute_result",
          "data": {
            "text/plain": [
              "0.7092097454167732"
            ]
          },
          "metadata": {},
          "execution_count": 36
        }
      ]
    },
    {
      "cell_type": "markdown",
      "source": [
        "### **1.4.4** K-Means Clustering"
      ],
      "metadata": {
        "id": "iX1UkLEjk7U_"
      }
    },
    {
      "cell_type": "markdown",
      "source": [
        "#### (a) Find the best number of clusters with the elbow plot"
      ],
      "metadata": {
        "id": "nTF8RcWHtJf1"
      }
    },
    {
      "cell_type": "code",
      "source": [
        "features = encoded_df_properties.drop(columns=['quality'])"
      ],
      "metadata": {
        "id": "XXEC7Ab9k_4W"
      },
      "execution_count": 37,
      "outputs": []
    },
    {
      "cell_type": "code",
      "source": [
        "from sklearn.cluster import KMeans\n",
        "\n",
        "wcss = []\n",
        "\n",
        "for i in range(2,11):\n",
        "  kmeans = KMeans(n_clusters = i, n_init = 5, random_state = 0)\n",
        "  kmeans.fit(features)\n",
        "  wcss.append(kmeans.inertia_)\n",
        "\n",
        "plt.figure(figsize=(8,6))\n",
        "plt.plot(range(2,11), wcss)\n",
        "\n",
        "plt.title('Elbow Plot : WCSS vs. Number of Clusters')\n",
        "plt.xlabel('Number of Clusters')\n",
        "plt.ylabel('WCSS Value')\n",
        "\n",
        "plt.show()"
      ],
      "metadata": {
        "id": "ryEmlfE9KvW6",
        "colab": {
          "base_uri": "https://localhost:8080/",
          "height": 564
        },
        "outputId": "69e9665f-a99d-4c2f-97a9-ec4ae812372c"
      },
      "execution_count": 38,
      "outputs": [
        {
          "output_type": "display_data",
          "data": {
            "text/plain": [
              "<Figure size 800x600 with 1 Axes>"
            ],
            "image/png": "[encoded data removed]"
          },
          "metadata": {}
        }
      ]
    },
    {
      "cell_type": "code",
      "source": [
        "number_of_clusters = 5"
      ],
      "metadata": {
        "id": "DMZqEOq7rW95"
      },
      "execution_count": 39,
      "outputs": []
    },
    {
      "cell_type": "markdown",
      "source": [
        "#### (b) Re-fit with the best number of clusters"
      ],
      "metadata": {
        "id": "EQLHFhzds7BC"
      }
    },
    {
      "cell_type": "code",
      "source": [
        "kmeans = KMeans(n_clusters=5, n_init=5, random_state=0).fit(features)"
      ],
      "metadata": {
        "id": "2EKE2fOEK0Gq"
      },
      "execution_count": 40,
      "outputs": []
    },
    {
      "cell_type": "markdown",
      "metadata": {
        "id": "nyURjOkMcKPD"
      },
      "source": [
        "# **Part II:** Distributed Machine Learning with Spark"
      ]
    },
    {
      "cell_type": "code",
      "source": [
        "%%capture\n",
        "\n",
        "!apt install libkrb5-dev\n",
        "!wget https://downloads.apache.org/spark/spark-3.1.2/spark-3.1.2-bin-hadoop3.2.tgz\n",
        "!tar xf spark-3.1.2-bin-hadoop3.2.tgz\n",
        "!pip install findspark\n",
        "!pip install sparkmagic\n",
        "!pip install pyspark\n",
        "! pip install pyspark --user\n",
        "! pip install seaborn --user\n",
        "! pip install plotly --user\n",
        "! pip install imageio --user\n",
        "! pip install folium --user"
      ],
      "metadata": {
        "id": "9Eo8fwt8OcMa"
      },
      "execution_count": 41,
      "outputs": []
    },
    {
      "cell_type": "code",
      "source": [
        "import pyspark\n",
        "from pyspark.sql import SQLContext\n",
        "from pyspark.sql import SparkSession\n",
        "from pyspark.sql.types import *\n",
        "import pyspark.sql.functions as F\n",
        "\n",
        "spark = SparkSession.builder.appName('bigdata-hw4').getOrCreate()\n",
        "sqlContext = SQLContext(spark)"
      ],
      "metadata": {
        "colab": {
          "base_uri": "https://localhost:8080/"
        },
        "id": "lwqTpkc3Ogz3",
        "outputId": "ec3c3cb1-76a5-4086-9270-04bcfdda752a"
      },
      "execution_count": 42,
      "outputs": [
        {
          "output_type": "stream",
          "name": "stderr",
          "text": [
            "/usr/local/lib/python3.10/dist-packages/pyspark/sql/context.py:113: FutureWarning: Deprecated in 3.0.0. Use SparkSession.builder.getOrCreate() instead.\n",
            "  warnings.warn(\n"
          ]
        }
      ]
    },
    {
      "cell_type": "code",
      "source": [
        "%load_ext sparkmagic.magics"
      ],
      "metadata": {
        "id": "WAjmBWz7Oqs0"
      },
      "execution_count": 43,
      "outputs": []
    },
    {
      "cell_type": "code",
      "source": [
        "# Graph section\n",
        "import networkx as nx\n",
        "\n",
        "# SQLite RDBMS\n",
        "import sqlite3\n",
        "\n",
        "import os\n",
        "os.environ['SPARK_HOME'] = '/content/spark-3.1.2-bin-hadoop3.2'\n",
        "os.environ[\"JAVA_HOME\"] = \"/usr/lib/jvm/java-8-openjdk-amd64\""
      ],
      "metadata": {
        "id": "TfQ72cpUOr3l"
      },
      "execution_count": 44,
      "outputs": []
    },
    {
      "cell_type": "markdown",
      "source": [
        "## **2.1** Initializing Spark Data"
      ],
      "metadata": {
        "id": "6F4x_ia7RGyp"
      }
    },
    {
      "cell_type": "markdown",
      "source": [
        "### **2.1.0** Converting the Pandas Dataframe into a Spark Dataframe"
      ],
      "metadata": {
        "id": "WYTG07Kq4E82"
      }
    },
    {
      "cell_type": "code",
      "source": [
        "properties_sdf = spark.createDataFrame(encoded_df_properties)"
      ],
      "metadata": {
        "id": "UQtC3kw7rf1V"
      },
      "execution_count": 45,
      "outputs": []
    },
    {
      "cell_type": "code",
      "source": [
        "from pyspark.sql.functions import col\n",
        "properties_sdf = properties_sdf.withColumn('quality', col('quality').cast(DoubleType()))"
      ],
      "metadata": {
        "id": "xL5S9baj1gLn"
      },
      "execution_count": 46,
      "outputs": []
    },
    {
      "cell_type": "markdown",
      "source": [
        "### **2.1.1** Setting Up a VectorAssembler"
      ],
      "metadata": {
        "id": "X3WUlDEv46rH"
      }
    },
    {
      "cell_type": "code",
      "source": [
        "all_columns = properties_sdf.columns\n",
        "print(all_columns)"
      ],
      "metadata": {
        "id": "yFoJ18QJLA9p",
        "colab": {
          "base_uri": "https://localhost:8080/"
        },
        "outputId": "7234aef2-63b7-4226-f3ec-b8834fe64058"
      },
      "execution_count": 47,
      "outputs": [
        {
          "output_type": "stream",
          "name": "stdout",
          "text": [
            "['price', 'size_in_sqft', 'price_per_sqft', 'no_of_bedrooms', 'no_of_bathrooms', 'quality', 'maid_room', 'unfurnished', 'balcony', 'barbecue_area', 'built_in_wardrobes', 'central_ac', 'childrens_play_area', 'childrens_pool', 'concierge', 'covered_parking', 'kitchen_appliances', 'lobby_in_building', 'maid_service', 'networked', 'pets_allowed', 'private_garden', 'private_gym', 'private_jacuzzi', 'private_pool', 'security', 'shared_gym', 'shared_pool', 'shared_spa', 'study', 'vastu_compliant', 'view_of_landmark', 'view_of_water', 'walk_in_closet']\n"
          ]
        }
      ]
    },
    {
      "cell_type": "code",
      "source": [
        "drop_columns = properties_sdf.drop('quality', 'neighborhood')"
      ],
      "metadata": {
        "id": "tbcp9QqH5_l0"
      },
      "execution_count": 48,
      "outputs": []
    },
    {
      "cell_type": "code",
      "source": [
        "feature_columns = drop_columns.columns\n",
        "print(feature_columns)"
      ],
      "metadata": {
        "id": "FGC2k4RXMVj6",
        "colab": {
          "base_uri": "https://localhost:8080/"
        },
        "outputId": "9eddc8a5-0ecc-4d39-86b0-aaca27a33b82"
      },
      "execution_count": 49,
      "outputs": [
        {
          "output_type": "stream",
          "name": "stdout",
          "text": [
            "['price', 'size_in_sqft', 'price_per_sqft', 'no_of_bedrooms', 'no_of_bathrooms', 'maid_room', 'unfurnished', 'balcony', 'barbecue_area', 'built_in_wardrobes', 'central_ac', 'childrens_play_area', 'childrens_pool', 'concierge', 'covered_parking', 'kitchen_appliances', 'lobby_in_building', 'maid_service', 'networked', 'pets_allowed', 'private_garden', 'private_gym', 'private_jacuzzi', 'private_pool', 'security', 'shared_gym', 'shared_pool', 'shared_spa', 'study', 'vastu_compliant', 'view_of_landmark', 'view_of_water', 'walk_in_closet']\n"
          ]
        }
      ]
    },
    {
      "cell_type": "code",
      "source": [
        "from pyspark.ml.feature import VectorAssembler\n",
        "assembler = VectorAssembler(inputCols=feature_columns, outputCol='features')"
      ],
      "metadata": {
        "id": "WmAZT38o7zxM"
      },
      "execution_count": 50,
      "outputs": []
    },
    {
      "cell_type": "markdown",
      "source": [
        "## **2.2** Preprocessing: Pipeline and Train-Test Split\n"
      ],
      "metadata": {
        "id": "WYgt35u-68XA"
      }
    },
    {
      "cell_type": "code",
      "source": [
        "from pyspark.ml import Pipeline\n",
        "\n",
        "pipeline = Pipeline(stages=[assembler])\n",
        "\n",
        "processed_properties_sdf = pipeline.fit(properties_sdf).transform(properties_sdf)"
      ],
      "metadata": {
        "id": "PozlPEwbMw9l"
      },
      "execution_count": 51,
      "outputs": []
    },
    {
      "cell_type": "markdown",
      "source": [
        "Now that we have the data in the format we need, we will create our train and test sets."
      ],
      "metadata": {
        "id": "3LUua0RlNLpk"
      }
    },
    {
      "cell_type": "code",
      "source": [
        "random_seed = 42\n",
        "\n",
        "train_sdf, test_sdf = processed_properties_sdf.randomSplit([0.8, 0.2], seed = random_seed)"
      ],
      "metadata": {
        "id": "CXym9xONNrzB"
      },
      "execution_count": 52,
      "outputs": []
    },
    {
      "cell_type": "markdown",
      "source": [
        "## **2.3** Modelling (SparkML)"
      ],
      "metadata": {
        "id": "ZlAv_PlBcYDr"
      }
    },
    {
      "cell_type": "markdown",
      "source": [
        "### **2.3.1** Vanilla Logistic Regression"
      ],
      "metadata": {
        "id": "0s65E3utg0Zo"
      }
    },
    {
      "cell_type": "code",
      "source": [
        "from pyspark.ml.classification import LogisticRegression\n",
        "\n",
        "lr_model = LogisticRegression(featuresCol='features', labelCol='quality', maxIter=5, family='multinomial').fit(train_sdf)"
      ],
      "metadata": {
        "id": "IktoDMkWhn9p"
      },
      "execution_count": 53,
      "outputs": []
    },
    {
      "cell_type": "code",
      "source": [
        "train_accuracy = lr_model.summary.accuracy"
      ],
      "metadata": {
        "id": "XjyYCYw6i1sD"
      },
      "execution_count": 54,
      "outputs": []
    },
    {
      "cell_type": "code",
      "source": [
        "train_accuracy"
      ],
      "metadata": {
        "id": "YDKeHAJ6LY2h",
        "colab": {
          "base_uri": "https://localhost:8080/"
        },
        "outputId": "8107fd20-d133-4a6c-f016-608a19ac735d"
      },
      "execution_count": 55,
      "outputs": [
        {
          "output_type": "execute_result",
          "data": {
            "text/plain": [
              "0.9406130268199234"
            ]
          },
          "metadata": {},
          "execution_count": 55
        }
      ]
    },
    {
      "cell_type": "markdown",
      "source": [
        "Now, let's find out how good the model actually is and see if it overfits to the training data."
      ],
      "metadata": {
        "id": "C20Hy2qii_OO"
      }
    },
    {
      "cell_type": "code",
      "source": [
        "predictions = lr_model.transform(test_sdf)"
      ],
      "metadata": {
        "id": "szq8zQ3QjPWp"
      },
      "execution_count": 56,
      "outputs": []
    },
    {
      "cell_type": "code",
      "source": [
        "from pyspark.mllib.evaluation import MulticlassMetrics\n",
        "\n",
        "predictionAndLabels = predictions.select(['prediction', 'quality']).rdd\n",
        "\n",
        "metrics = MulticlassMetrics(predictionAndLabels)\n",
        "\n",
        "confusion_matrix = np.array(metrics.confusionMatrix().toArray())"
      ],
      "metadata": {
        "id": "hudav4vrLkoR",
        "colab": {
          "base_uri": "https://localhost:8080/"
        },
        "outputId": "58ae9314-4c3a-4ade-8ed5-f614569544b0"
      },
      "execution_count": 57,
      "outputs": [
        {
          "output_type": "stream",
          "name": "stderr",
          "text": [
            "/usr/local/lib/python3.10/dist-packages/pyspark/sql/context.py:158: FutureWarning: Deprecated in 3.0.0. Use SparkSession.builder.getOrCreate() instead.\n",
            "  warnings.warn(\n"
          ]
        }
      ]
    },
    {
      "cell_type": "code",
      "source": [
        "total_correct = confusion_matrix.trace()\n",
        "total = confusion_matrix.sum()\n",
        "test_accuracy = total_correct / total\n",
        "test_accuracy"
      ],
      "metadata": {
        "id": "zAFs87WsLnYJ",
        "colab": {
          "base_uri": "https://localhost:8080/"
        },
        "outputId": "8ed187f3-f186-4ad7-e06c-16a1a21fbabf"
      },
      "execution_count": 58,
      "outputs": [
        {
          "output_type": "execute_result",
          "data": {
            "text/plain": [
              "0.9026548672566371"
            ]
          },
          "metadata": {},
          "execution_count": 58
        }
      ]
    },
    {
      "cell_type": "markdown",
      "source": [
        "### **2.3.2** Regularized Logistic Regression\n",
        "\n",
        "Now, we will add regularization – LASSO (L1), Ridge (L2) and elastic net (combination of L1 and L2), to avoid overfitting."
      ],
      "metadata": {
        "id": "zu_wBe65VrW9"
      }
    },
    {
      "cell_type": "markdown",
      "source": [
        "#### (a) LASSO (L1)"
      ],
      "metadata": {
        "id": "fSEYNPEPYBJk"
      }
    },
    {
      "cell_type": "code",
      "source": [
        "l1_model = LogisticRegression(featuresCol='features', labelCol='quality', regParam = 0.1, elasticNetParam=1, maxIter=5, family='multinomial')\n",
        "\n",
        "l1_model = l1_model.fit(train_sdf)\n",
        "\n",
        "\n",
        "l1_train_accuracy = l1_model.summary.accuracy\n",
        "\n",
        "l1_train_accuracy"
      ],
      "metadata": {
        "id": "MfTbTlY3Lq5h",
        "colab": {
          "base_uri": "https://localhost:8080/"
        },
        "outputId": "8ec027b9-231d-4f4f-b4e3-ffb76def219d"
      },
      "execution_count": 59,
      "outputs": [
        {
          "output_type": "execute_result",
          "data": {
            "text/plain": [
              "0.8320561941251596"
            ]
          },
          "metadata": {},
          "execution_count": 59
        }
      ]
    },
    {
      "cell_type": "code",
      "source": [
        "predictions = l1_model.transform(test_sdf)\n",
        "predictionsAndLabels = predictions.select(['prediction', 'quality']).rdd\n",
        "metrics = MulticlassMetrics(predictionAndLabels)\n",
        "confusion_matrix_l1 = np.array(metrics.confusionMatrix().toArray())\n",
        "\n",
        "total_correct = confusion_matrix_l1.trace()\n",
        "total = confusion_matrix_l1.sum()\n",
        "l1_test_accuracy = total_correct / total\n",
        "\n",
        "l1_test_accuracy, confusion_matrix_l1"
      ],
      "metadata": {
        "id": "ZJ2cQM7xLzry",
        "colab": {
          "base_uri": "https://localhost:8080/"
        },
        "outputId": "21de0a55-9220-4d61-814a-e394f8abeedb"
      },
      "execution_count": 60,
      "outputs": [
        {
          "output_type": "execute_result",
          "data": {
            "text/plain": [
              "(0.9026548672566371,\n",
              " array([[ 78.,   6.,   0.,   0.],\n",
              "        [  9., 202.,  11.,   1.],\n",
              "        [  0.,   4.,  18.,   1.],\n",
              "        [  0.,   0.,   1.,   8.]]))"
            ]
          },
          "metadata": {},
          "execution_count": 60
        }
      ]
    },
    {
      "cell_type": "markdown",
      "source": [
        "#### (b) Ridge (L2)"
      ],
      "metadata": {
        "id": "-O7Oq8KPdD9h"
      }
    },
    {
      "cell_type": "code",
      "source": [
        "l2_model = LogisticRegression(featuresCol='features', labelCol='quality', regParam = 0.1, elasticNetParam=0, maxIter=5, family='multinomial')\n",
        "\n",
        "l2_model = l2_model.fit(train_sdf)\n",
        "\n",
        "l2_train_accuracy = l2_model.summary.accuracy\n",
        "l2_train_accuracy"
      ],
      "metadata": {
        "id": "p1YTDFXOMCYf",
        "colab": {
          "base_uri": "https://localhost:8080/"
        },
        "outputId": "e1d6d93a-5d76-4ee7-f8c7-846188d9ab02"
      },
      "execution_count": 61,
      "outputs": [
        {
          "output_type": "execute_result",
          "data": {
            "text/plain": [
              "0.9157088122605364"
            ]
          },
          "metadata": {},
          "execution_count": 61
        }
      ]
    },
    {
      "cell_type": "code",
      "source": [
        "predictions = l2_model.transform(test_sdf)\n",
        "predictionsAndLabels = predictions.select(['prediction', 'quality']).rdd\n",
        "metrics = MulticlassMetrics(predictionsAndLabels)\n",
        "confusion_matrix_l2 = np.array(metrics.confusionMatrix().toArray())\n",
        "\n",
        "total = confusion_matrix_l2.sum()\n",
        "total_correct = confusion_matrix_l2.trace()\n",
        "l2_test_accuracy = total_correct / total\n",
        "l2_test_accuracy, confusion_matrix_l2"
      ],
      "metadata": {
        "id": "p3TwzqJiMF86",
        "colab": {
          "base_uri": "https://localhost:8080/"
        },
        "outputId": "a915030b-7fcd-40c4-f037-b9add7a0b291"
      },
      "execution_count": 62,
      "outputs": [
        {
          "output_type": "execute_result",
          "data": {
            "text/plain": [
              "(0.9203539823008849,\n",
              " array([[ 73.,  11.,   0.,   0.],\n",
              "        [  2., 219.,   1.,   1.],\n",
              "        [  0.,  10.,  12.,   1.],\n",
              "        [  0.,   0.,   1.,   8.]]))"
            ]
          },
          "metadata": {},
          "execution_count": 62
        }
      ]
    },
    {
      "cell_type": "markdown",
      "source": [
        "#### (c) Elastic Net"
      ],
      "metadata": {
        "id": "fUibpxvqeCsz"
      }
    },
    {
      "cell_type": "code",
      "source": [
        "en_model = LogisticRegression(featuresCol='features', labelCol='quality', regParam = 0.1, elasticNetParam=0.15, maxIter=5, family='multinomial')\n",
        "\n",
        "en_model = en_model.fit(train_sdf)\n",
        "\n",
        "en_train_accuracy = en_model.summary.accuracy\n",
        "\n",
        "en_train_accuracy"
      ],
      "metadata": {
        "id": "O8WJJUSTMHch",
        "colab": {
          "base_uri": "https://localhost:8080/"
        },
        "outputId": "ca6c8d16-a639-4348-c1d2-7374dd92f6fb"
      },
      "execution_count": 63,
      "outputs": [
        {
          "output_type": "execute_result",
          "data": {
            "text/plain": [
              "0.8908045977011494"
            ]
          },
          "metadata": {},
          "execution_count": 63
        }
      ]
    },
    {
      "cell_type": "code",
      "source": [
        "predictions = en_model.transform(test_sdf)\n",
        "predictionsAndLabels = predictions.select(['prediction', 'quality']).rdd\n",
        "metrics = MulticlassMetrics(predictionsAndLabels)\n",
        "confusion_matrix_en = np.array(metrics.confusionMatrix().toArray())\n",
        "\n",
        "total = confusion_matrix_en.sum()\n",
        "total_correct = confusion_matrix_en.trace()\n",
        "en_test_accuracy = total_correct / total\n",
        "en_test_accuracy, confusion_matrix_en"
      ],
      "metadata": {
        "id": "cL6ubSekMK8i",
        "colab": {
          "base_uri": "https://localhost:8080/"
        },
        "outputId": "bdb28c00-73a6-46e8-a984-81e8334ec6b1"
      },
      "execution_count": 64,
      "outputs": [
        {
          "output_type": "execute_result",
          "data": {
            "text/plain": [
              "(0.8938053097345132,\n",
              " array([[ 71.,  13.,   0.,   0.],\n",
              "        [  3., 220.,   0.,   0.],\n",
              "        [  0.,  18.,   4.,   1.],\n",
              "        [  0.,   0.,   1.,   8.]]))"
            ]
          },
          "metadata": {},
          "execution_count": 64
        }
      ]
    },
    {
      "cell_type": "markdown",
      "source": [
        "### **2.3.3** Random Forest Classification"
      ],
      "metadata": {
        "id": "H8k-KqujfWbA"
      }
    },
    {
      "cell_type": "code",
      "source": [
        "from pyspark.ml.classification import RandomForestClassifier\n",
        "\n",
        "\n",
        "random_seed = 42\n",
        "rf = RandomForestClassifier(seed=random_seed, maxDepth=10, labelCol='quality')\n",
        "rf_model = rf.fit(train_sdf)"
      ],
      "metadata": {
        "id": "J-rKH7Qh0m4H"
      },
      "execution_count": 65,
      "outputs": []
    },
    {
      "cell_type": "code",
      "source": [
        "train_pred = rf_model.transform(train_sdf)\n",
        "test_pred = rf_model.transform(test_sdf)"
      ],
      "metadata": {
        "id": "dzPe3ld01hhA"
      },
      "execution_count": 66,
      "outputs": []
    },
    {
      "cell_type": "code",
      "source": [
        "predictionsAndLabels = train_pred.select(['prediction', 'quality']).rdd\n",
        "metrics = MulticlassMetrics(predictionsAndLabels)\n",
        "rf_train_cm = np.array(metrics.confusionMatrix().toArray())\n",
        "total_correct = rf_train_cm.trace()\n",
        "total = rf_train_cm.sum()\n",
        "rf_train_accuracy = total_correct / total\n",
        "\n",
        "predictionsAndLabels = test_pred.select(['prediction', 'quality']).rdd\n",
        "metrics = MulticlassMetrics(predictionsAndLabels)\n",
        "rf_test_cm = np.array(metrics.confusionMatrix().toArray())\n",
        "total_correct = rf_test_cm.trace()\n",
        "total = rf_test_cm.sum()\n",
        "rf_test_accuracy = total_correct / total\n",
        "rf_test_accuracy"
      ],
      "metadata": {
        "id": "es9Wql3B14TV",
        "colab": {
          "base_uri": "https://localhost:8080/"
        },
        "outputId": "84599661-e9ef-49be-8239-6e437e9d23f2"
      },
      "execution_count": 73,
      "outputs": [
        {
          "output_type": "stream",
          "name": "stderr",
          "text": [
            "/usr/local/lib/python3.10/dist-packages/pyspark/sql/context.py:158: FutureWarning: Deprecated in 3.0.0. Use SparkSession.builder.getOrCreate() instead.\n",
            "  warnings.warn(\n"
          ]
        },
        {
          "output_type": "execute_result",
          "data": {
            "text/plain": [
              "0.9026548672566371"
            ]
          },
          "metadata": {},
          "execution_count": 73
        }
      ]
    },
    {
      "cell_type": "markdown",
      "source": [
        "### **2.3.4** Dimensionality Reduction Using PCA"
      ],
      "metadata": {
        "id": "n972zXod4DXF"
      }
    },
    {
      "cell_type": "code",
      "source": [
        "from pyspark.ml.feature import PCA, StandardScaler\n",
        "\n",
        "scaler = StandardScaler(inputCol='features', outputCol='scaled_features')\n",
        "scaler_model = scaler.fit(train_sdf)\n",
        "train_sdf_scaled = scaler_model.transform(train_sdf)\n",
        "test_sdf_scaled = scaler_model.transform(test_sdf)\n",
        "\n",
        "pca = PCA(k=16, inputCol='scaled_features', outputCol='pca_features')\n",
        "pca_model = pca.fit(train_sdf_scaled)\n",
        "\n",
        "train_sdf_pca = pca_model.transform(train_sdf_scaled)\n",
        "test_sdf_pca = pca_model.transform(test_sdf_scaled)"
      ],
      "metadata": {
        "id": "J4t4b6RECbRl"
      },
      "execution_count": 68,
      "outputs": []
    },
    {
      "cell_type": "markdown",
      "source": [
        "Now, we create a Logistic Regression model and train it using the PCA features."
      ],
      "metadata": {
        "id": "IFxyRkmTDBta"
      }
    },
    {
      "cell_type": "code",
      "source": [
        "lr_model = LogisticRegression(featuresCol='features', labelCol='quality', maxIter=5, family='multinomial').fit(train_sdf_pca)\n",
        "\n",
        "test_pred = lr_model.transform(test_sdf_pca)"
      ],
      "metadata": {
        "id": "QdX0LisYDcb1"
      },
      "execution_count": 69,
      "outputs": []
    },
    {
      "cell_type": "code",
      "source": [
        "train_accuracy_pca = lr_model.summary.accuracy"
      ],
      "metadata": {
        "id": "ZqgCxBWfM3HS"
      },
      "execution_count": 70,
      "outputs": []
    },
    {
      "cell_type": "code",
      "source": [
        "predictionsAndLabels = test_pred.select(['prediction', 'quality']).rdd\n",
        "metrics = MulticlassMetrics(predictionsAndLabels)\n",
        "confusion_matrix_pca = np.array(metrics.confusionMatrix().toArray())\n",
        "\n",
        "total = confusion_matrix_pca.sum()\n",
        "total_correct = confusion_matrix_pca.trace()\n",
        "test_accuracy_pca = total_correct / total\n",
        "test_accuracy_pca"
      ],
      "metadata": {
        "id": "6AbNje50EU2a",
        "colab": {
          "base_uri": "https://localhost:8080/"
        },
        "outputId": "7d337777-8738-43f4-dc3e-4723b18f514a"
      },
      "execution_count": 74,
      "outputs": [
        {
          "output_type": "stream",
          "name": "stderr",
          "text": [
            "/usr/local/lib/python3.10/dist-packages/pyspark/sql/context.py:158: FutureWarning: Deprecated in 3.0.0. Use SparkSession.builder.getOrCreate() instead.\n",
            "  warnings.warn(\n"
          ]
        },
        {
          "output_type": "execute_result",
          "data": {
            "text/plain": [
              "0.9026548672566371"
            ]
          },
          "metadata": {},
          "execution_count": 74
        }
      ]
    }
  ]
}